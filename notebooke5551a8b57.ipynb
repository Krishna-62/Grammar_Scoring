{
 "cells": [
  {
   "cell_type": "code",
   "execution_count": 1,
   "id": "f48b8b81",
   "metadata": {
    "execution": {
     "iopub.execute_input": "2025-04-07T08:07:56.371080Z",
     "iopub.status.busy": "2025-04-07T08:07:56.370595Z",
     "iopub.status.idle": "2025-04-07T08:08:02.533346Z",
     "shell.execute_reply": "2025-04-07T08:08:02.531455Z"
    },
    "papermill": {
     "duration": 6.168526,
     "end_time": "2025-04-07T08:08:02.535446",
     "exception": false,
     "start_time": "2025-04-07T08:07:56.366920",
     "status": "completed"
    },
    "tags": []
   },
   "outputs": [
    {
     "name": "stdout",
     "output_type": "stream",
     "text": [
      "Requirement already satisfied: xgboost in /usr/local/lib/python3.10/dist-packages (2.0.3)\r\n",
      "Requirement already satisfied: numpy in /usr/local/lib/python3.10/dist-packages (from xgboost) (1.26.4)\r\n",
      "Requirement already satisfied: scipy in /usr/local/lib/python3.10/dist-packages (from xgboost) (1.13.1)\r\n",
      "Requirement already satisfied: mkl_fft in /usr/local/lib/python3.10/dist-packages (from numpy->xgboost) (1.3.8)\r\n",
      "Requirement already satisfied: mkl_random in /usr/local/lib/python3.10/dist-packages (from numpy->xgboost) (1.2.4)\r\n",
      "Requirement already satisfied: mkl_umath in /usr/local/lib/python3.10/dist-packages (from numpy->xgboost) (0.1.1)\r\n",
      "Requirement already satisfied: mkl in /usr/local/lib/python3.10/dist-packages (from numpy->xgboost) (2025.0.1)\r\n",
      "Requirement already satisfied: tbb4py in /usr/local/lib/python3.10/dist-packages (from numpy->xgboost) (2022.0.0)\r\n",
      "Requirement already satisfied: mkl-service in /usr/local/lib/python3.10/dist-packages (from numpy->xgboost) (2.4.1)\r\n",
      "Requirement already satisfied: intel-openmp>=2024 in /usr/local/lib/python3.10/dist-packages (from mkl->numpy->xgboost) (2024.2.0)\r\n",
      "Requirement already satisfied: tbb==2022.* in /usr/local/lib/python3.10/dist-packages (from mkl->numpy->xgboost) (2022.0.0)\r\n",
      "Requirement already satisfied: tcmlib==1.* in /usr/local/lib/python3.10/dist-packages (from tbb==2022.*->mkl->numpy->xgboost) (1.2.0)\r\n",
      "Requirement already satisfied: intel-cmplr-lib-rt in /usr/local/lib/python3.10/dist-packages (from mkl_umath->numpy->xgboost) (2024.2.0)\r\n",
      "Requirement already satisfied: intel-cmplr-lib-ur==2024.2.0 in /usr/local/lib/python3.10/dist-packages (from intel-openmp>=2024->mkl->numpy->xgboost) (2024.2.0)\r\n"
     ]
    }
   ],
   "source": [
    "!pip install xgboost\n"
   ]
  },
  {
   "cell_type": "code",
   "execution_count": 2,
   "id": "f17951ef",
   "metadata": {
    "execution": {
     "iopub.execute_input": "2025-04-07T08:08:02.543420Z",
     "iopub.status.busy": "2025-04-07T08:08:02.542995Z",
     "iopub.status.idle": "2025-04-07T08:12:09.860305Z",
     "shell.execute_reply": "2025-04-07T08:12:09.858382Z"
    },
    "papermill": {
     "duration": 247.323374,
     "end_time": "2025-04-07T08:12:09.862266",
     "exception": false,
     "start_time": "2025-04-07T08:08:02.538892",
     "status": "completed"
    },
    "tags": []
   },
   "outputs": [
    {
     "name": "stdout",
     "output_type": "stream",
     "text": [
      "Train shape: (444, 2)\n",
      "Test shape: (195, 1)\n",
      "\n",
      "Grade distribution:\n",
      "grade\n",
      "A    168\n",
      "C    127\n",
      "B     75\n",
      "D     74\n",
      "Name: count, dtype: int64\n",
      "\n",
      "✅ Validation Accuracy: 53.93%\n",
      "\n",
      "Classification Report:\n",
      "              precision    recall  f1-score   support\n",
      "\n",
      "           A       0.68      0.79      0.73        34\n",
      "           B       0.33      0.07      0.11        15\n",
      "           C       0.39      0.52      0.45        25\n",
      "           D       0.54      0.47      0.50        15\n",
      "\n",
      "    accuracy                           0.54        89\n",
      "   macro avg       0.49      0.46      0.45        89\n",
      "weighted avg       0.52      0.54      0.51        89\n",
      "\n"
     ]
    },
    {
     "data": {
      "image/png": "[encoded data removed]",
      "text/plain": [
       "<Figure size 640x480 with 2 Axes>"
      ]
     },
     "metadata": {},
     "output_type": "display_data"
    },
    {
     "name": "stdout",
     "output_type": "stream",
     "text": [
      "📦 Submission saved as submission.csv\n"
     ]
    }
   ],
   "source": [
    "import os\n",
    "import pandas as pd\n",
    "import numpy as np\n",
    "import librosa\n",
    "import matplotlib.pyplot as plt\n",
    "import seaborn as sns\n",
    "import xgboost as xgb\n",
    "\n",
    "from sklearn.model_selection import train_test_split\n",
    "from sklearn.metrics import accuracy_score, classification_report, confusion_matrix\n",
    "from sklearn.preprocessing import LabelEncoder\n",
    "\n",
    "import warnings\n",
    "warnings.filterwarnings('ignore')\n",
    "\n",
    "# Paths\n",
    "base_path = \"/kaggle/input/shl-intern-hiring-assessment/dataset\"\n",
    "audio_train_path = os.path.join(base_path, \"audios_train\")\n",
    "audio_test_path = os.path.join(base_path, \"audios_test\")\n",
    "\n",
    "# Load data\n",
    "train_df = pd.read_csv(os.path.join(base_path, \"train.csv\"))\n",
    "test_df = pd.read_csv(os.path.join(base_path, \"test.csv\"))\n",
    "\n",
    "print(\"Train shape:\", train_df.shape)\n",
    "print(\"Test shape:\", test_df.shape)\n",
    "\n",
    "# Grade mapping (merge rare classes)\n",
    "def score_to_grade(score):\n",
    "    if score >= 4.25:\n",
    "        return 'A'\n",
    "    elif score >= 3.5:\n",
    "        return 'B'\n",
    "    elif score >= 2.5:\n",
    "        return 'C'\n",
    "    else:\n",
    "        return 'D'  # Merged D + E\n",
    "\n",
    "train_df['grade'] = train_df['label'].apply(score_to_grade)\n",
    "\n",
    "# Debug class distribution\n",
    "print(\"\\nGrade distribution:\")\n",
    "print(train_df['grade'].value_counts())\n",
    "\n",
    "# Extract features\n",
    "def extract_features(file_path, n_mfcc=40):\n",
    "    y, sr = librosa.load(file_path, sr=None)\n",
    "    \n",
    "    mfcc = librosa.feature.mfcc(y=y, sr=sr, n_mfcc=n_mfcc)\n",
    "    mfcc_mean = np.mean(mfcc.T, axis=0)\n",
    "    mfcc_std = np.std(mfcc.T, axis=0)\n",
    "\n",
    "    zcr = np.mean(librosa.feature.zero_crossing_rate(y))\n",
    "    rms = np.mean(librosa.feature.rms(y=y))\n",
    "    centroid = np.mean(librosa.feature.spectral_centroid(y=y, sr=sr))\n",
    "\n",
    "    return np.concatenate([mfcc_mean, mfcc_std, [zcr, rms, centroid]])\n",
    "\n",
    "# Train features\n",
    "train_features = []\n",
    "for fname in train_df['filename']:\n",
    "    path = os.path.join(audio_train_path, fname)\n",
    "    train_features.append(extract_features(path))\n",
    "\n",
    "X = np.array(train_features)\n",
    "y = train_df['grade'].values\n",
    "\n",
    "# Encode labels\n",
    "le = LabelEncoder()\n",
    "y_enc = le.fit_transform(y)  # For classifier\n",
    "\n",
    "# Train-test split (now safe, stratify works)\n",
    "X_train, X_val, y_train, y_val = train_test_split(\n",
    "    X, y_enc, test_size=0.2, random_state=42, stratify=y_enc\n",
    ")\n",
    "\n",
    "# XGBoost Classifier\n",
    "clf = xgb.XGBClassifier(\n",
    "    n_estimators=200,\n",
    "    max_depth=8,\n",
    "    learning_rate=0.08,\n",
    "    subsample=0.9,\n",
    "    colsample_bytree=0.8,\n",
    "    random_state=42,\n",
    "    use_label_encoder=False,\n",
    "    eval_metric='mlogloss'\n",
    ")\n",
    "\n",
    "clf.fit(X_train, y_train)\n",
    "\n",
    "# Predict\n",
    "val_preds = clf.predict(X_val)\n",
    "acc = accuracy_score(y_val, val_preds)\n",
    "\n",
    "print(f\"\\n✅ Validation Accuracy: {acc*100:.2f}%\")\n",
    "print(\"\\nClassification Report:\")\n",
    "print(classification_report(y_val, val_preds, target_names=le.classes_))\n",
    "\n",
    "# Confusion Matrix\n",
    "sns.heatmap(confusion_matrix(y_val, val_preds), annot=True, fmt=\"d\",\n",
    "            xticklabels=le.classes_, yticklabels=le.classes_)\n",
    "plt.title(\"Confusion Matrix\")\n",
    "plt.xlabel(\"Predicted\")\n",
    "plt.ylabel(\"True\")\n",
    "plt.show()\n",
    "\n",
    "# Test feature extraction\n",
    "test_features = []\n",
    "for fname in test_df['filename']:\n",
    "    path = os.path.join(audio_test_path, fname)\n",
    "    test_features.append(extract_features(path))\n",
    "\n",
    "X_test = np.array(test_features)\n",
    "\n",
    "# Predict test grades\n",
    "test_preds = clf.predict(X_test)\n",
    "test_grades = le.inverse_transform(test_preds)\n",
    "\n",
    "# Create submission with dummy regression scores\n",
    "submission = pd.DataFrame({\n",
    "    'filename': test_df['filename'],\n",
    "    'label': [4.5 if g == 'A' else 3.8 if g == 'B' else 2.8 if g == 'C' else 1.5 for g in test_grades]\n",
    "})\n",
    "submission.to_csv(\"submission.csv\", index=False)\n",
    "print(\"📦 Submission saved as submission.csv\")\n"
   ]
  }
 ],
 "metadata": {
  "kaggle": {
   "accelerator": "none",
   "dataSources": [
    {
     "databundleVersionId": 11694977,
     "sourceId": 97919,
     "sourceType": "competition"
    }
   ],
   "dockerImageVersionId": 30918,
   "isGpuEnabled": false,
   "isInternetEnabled": false,
   "language": "python",
   "sourceType": "notebook"
  },
  "kernelspec": {
   "display_name": "Python 3",
   "language": "python",
   "name": "python3"
  },
  "language_info": {
   "codemirror_mode": {
    "name": "ipython",
    "version": 3
   },
   "file_extension": ".py",
   "mimetype": "text/x-python",
   "name": "python",
   "nbconvert_exporter": "python",
   "pygments_lexer": "ipython3",
   "version": "3.10.12"
  },
  "papermill": {
   "default_parameters": {},
   "duration": 257.872972,
   "end_time": "2025-04-07T08:12:11.190909",
   "environment_variables": {},
   "exception": null,
   "input_path": "__notebook__.ipynb",
   "output_path": "__notebook__.ipynb",
   "parameters": {},
   "start_time": "2025-04-07T08:07:53.317937",
   "version": "2.6.0"
  }
 },
 "nbformat": 4,
 "nbformat_minor": 5
}
